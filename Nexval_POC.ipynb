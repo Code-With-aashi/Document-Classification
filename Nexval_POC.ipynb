{
  "nbformat": 4,
  "nbformat_minor": 0,
  "metadata": {
    "colab": {
      "name": "Nexval_POC.ipynb",
      "provenance": [],
      "include_colab_link": true
    },
    "kernelspec": {
      "name": "python3",
      "display_name": "Python 3"
    },
    "language_info": {
      "name": "python"
    }
  },
  "cells": [
    {
      "cell_type": "markdown",
      "metadata": {
        "id": "view-in-github",
        "colab_type": "text"
      },
      "source": [
        "<a href=\"https://colab.research.google.com/github/Code-With-aashi/Document-Classification/blob/main/Nexval_POC.ipynb\" target=\"_parent\"><img src=\"https://colab.research.google.com/assets/colab-badge.svg\" alt=\"Open In Colab\"/></a>"
      ]
    },
    {
      "cell_type": "code",
      "metadata": {
        "colab": {
          "base_uri": "https://localhost:8080/"
        },
        "id": "zWPBlqfJ_wLS",
        "outputId": "ad16c47e-ea33-4d3a-cc9b-2d43b505d148"
      },
      "source": [
        "from google.colab import drive\n",
        "drive.mount('/content/drive')"
      ],
      "execution_count": null,
      "outputs": [
        {
          "output_type": "stream",
          "text": [
            "Drive already mounted at /content/drive; to attempt to forcibly remount, call drive.mount(\"/content/drive\", force_remount=True).\n"
          ],
          "name": "stdout"
        }
      ]
    },
    {
      "cell_type": "code",
      "metadata": {
        "colab": {
          "base_uri": "https://localhost:8080/"
        },
        "id": "Y7GwGVX5_9yR",
        "outputId": "5a2e10e4-809c-4446-c27c-81208146b52b"
      },
      "source": [
        "import pandas as pd\n",
        "import numpy as np\n",
        "from nltk.stem import PorterStemmer\n",
        "from nltk.corpus import stopwords\n",
        "stemmer=PorterStemmer()\n",
        "import nltk\n",
        "nltk.download(\"stopwords\")\n",
        "nltk.download('wordnet')\n",
        "import re\n",
        "re.compile('<title>(.*)</title>')\n",
        "import string\n",
        "  "
      ],
      "execution_count": null,
      "outputs": [
        {
          "output_type": "stream",
          "text": [
            "[nltk_data] Downloading package stopwords to /root/nltk_data...\n",
            "[nltk_data]   Package stopwords is already up-to-date!\n",
            "[nltk_data] Downloading package wordnet to /root/nltk_data...\n",
            "[nltk_data]   Package wordnet is already up-to-date!\n"
          ],
          "name": "stdout"
        }
      ]
    },
    {
      "cell_type": "code",
      "metadata": {
        "id": "8Zte2LzvAJ5z"
      },
      "source": [
        "df = pd.read_csv('/content/drive/MyDrive/train_data.csv')"
      ],
      "execution_count": null,
      "outputs": []
    },
    {
      "cell_type": "code",
      "metadata": {
        "colab": {
          "base_uri": "https://localhost:8080/",
          "height": 206
        },
        "id": "sYS3tW7OAOBf",
        "outputId": "4f7e5ac1-84b7-4c1d-f083-16334ab76066"
      },
      "source": [
        "df.head(5)"
      ],
      "execution_count": null,
      "outputs": [
        {
          "output_type": "execute_result",
          "data": {
            "text/html": [
              "<div>\n",
              "<style scoped>\n",
              "    .dataframe tbody tr th:only-of-type {\n",
              "        vertical-align: middle;\n",
              "    }\n",
              "\n",
              "    .dataframe tbody tr th {\n",
              "        vertical-align: top;\n",
              "    }\n",
              "\n",
              "    .dataframe thead th {\n",
              "        text-align: right;\n",
              "    }\n",
              "</style>\n",
              "<table border=\"1\" class=\"dataframe\">\n",
              "  <thead>\n",
              "    <tr style=\"text-align: right;\">\n",
              "      <th></th>\n",
              "      <th>Unnamed: 0</th>\n",
              "      <th>label</th>\n",
              "      <th>content</th>\n",
              "      <th>file_path</th>\n",
              "    </tr>\n",
              "  </thead>\n",
              "  <tbody>\n",
              "    <tr>\n",
              "      <th>0</th>\n",
              "      <td>0</td>\n",
              "      <td>I</td>\n",
              "      <td>Official Records of Coconino County Hansen Rec...</td>\n",
              "      <td>/home/rajesh/www/rajesh/docuchief2/project/web...</td>\n",
              "    </tr>\n",
              "    <tr>\n",
              "      <th>1</th>\n",
              "      <td>1</td>\n",
              "      <td>I</td>\n",
              "      <td>Official Records of Coconino County Hansen Rec...</td>\n",
              "      <td>/home/rajesh/www/rajesh/docuchief2/project/web...</td>\n",
              "    </tr>\n",
              "    <tr>\n",
              "      <th>2</th>\n",
              "      <td>2</td>\n",
              "      <td>I</td>\n",
              "      <td>Official Records of Coconino County Hansen Rec...</td>\n",
              "      <td>/home/rajesh/www/rajesh/docuchief2/project/web...</td>\n",
              "    </tr>\n",
              "    <tr>\n",
              "      <th>3</th>\n",
              "      <td>3</td>\n",
              "      <td>I</td>\n",
              "      <td>Records of Coconino County nee ep amesercer il...</td>\n",
              "      <td>/home/rajesh/www/rajesh/docuchief2/project/web...</td>\n",
              "    </tr>\n",
              "    <tr>\n",
              "      <th>4</th>\n",
              "      <td>4</td>\n",
              "      <td>I</td>\n",
              "      <td>Official Records of Coconino County Hansen Rec...</td>\n",
              "      <td>/home/rajesh/www/rajesh/docuchief2/project/web...</td>\n",
              "    </tr>\n",
              "  </tbody>\n",
              "</table>\n",
              "</div>"
            ],
            "text/plain": [
              "   Unnamed: 0  ...                                          file_path\n",
              "0           0  ...  /home/rajesh/www/rajesh/docuchief2/project/web...\n",
              "1           1  ...  /home/rajesh/www/rajesh/docuchief2/project/web...\n",
              "2           2  ...  /home/rajesh/www/rajesh/docuchief2/project/web...\n",
              "3           3  ...  /home/rajesh/www/rajesh/docuchief2/project/web...\n",
              "4           4  ...  /home/rajesh/www/rajesh/docuchief2/project/web...\n",
              "\n",
              "[5 rows x 4 columns]"
            ]
          },
          "metadata": {
            "tags": []
          },
          "execution_count": 5
        }
      ]
    },
    {
      "cell_type": "code",
      "metadata": {
        "id": "t267VYTbAQHX"
      },
      "source": [
        "#i am cleaning the text by removing unwanted characters\n",
        "def clean_text(text):\n",
        "    '''Make text lowercase, remove text in square brackets,remove links,remove punctuation\n",
        "    and remove words containing numbers.'''\n",
        "    text = str(text).lower()\n",
        "    text = re.sub('\\[.*?\\]', '', text)\n",
        "    text = re.sub('https?://\\S+|www\\.\\S+', '', text)\n",
        "    text = re.sub('<.*?>+', '', text)\n",
        "    text = re.sub('[%s]' % re.escape(string.punctuation), '', text)\n",
        "    text = re.sub('\\n', '', text)\n",
        "    text = re.sub('\\w*\\d\\w*', '', text)\n",
        "    return text"
      ],
      "execution_count": null,
      "outputs": []
    },
    {
      "cell_type": "code",
      "metadata": {
        "id": "ctZgstReATon"
      },
      "source": [
        "df['content'] = df['content'].apply(lambda x:clean_text(x))"
      ],
      "execution_count": null,
      "outputs": []
    },
    {
      "cell_type": "code",
      "metadata": {
        "colab": {
          "base_uri": "https://localhost:8080/",
          "height": 363
        },
        "id": "4bRXJU9VAtf6",
        "outputId": "0cc7af15-bbe0-4e13-eb21-24bd419a5cfa"
      },
      "source": [
        "df.head(10)"
      ],
      "execution_count": null,
      "outputs": [
        {
          "output_type": "execute_result",
          "data": {
            "text/html": [
              "<div>\n",
              "<style scoped>\n",
              "    .dataframe tbody tr th:only-of-type {\n",
              "        vertical-align: middle;\n",
              "    }\n",
              "\n",
              "    .dataframe tbody tr th {\n",
              "        vertical-align: top;\n",
              "    }\n",
              "\n",
              "    .dataframe thead th {\n",
              "        text-align: right;\n",
              "    }\n",
              "</style>\n",
              "<table border=\"1\" class=\"dataframe\">\n",
              "  <thead>\n",
              "    <tr style=\"text-align: right;\">\n",
              "      <th></th>\n",
              "      <th>Unnamed: 0</th>\n",
              "      <th>label</th>\n",
              "      <th>content</th>\n",
              "      <th>file_path</th>\n",
              "    </tr>\n",
              "  </thead>\n",
              "  <tbody>\n",
              "    <tr>\n",
              "      <th>0</th>\n",
              "      <td>0</td>\n",
              "      <td>I</td>\n",
              "      <td>official records of coconino county hansen rec...</td>\n",
              "      <td>/home/rajesh/www/rajesh/docuchief2/project/web...</td>\n",
              "    </tr>\n",
              "    <tr>\n",
              "      <th>1</th>\n",
              "      <td>1</td>\n",
              "      <td>I</td>\n",
              "      <td>official records of coconino county hansen rec...</td>\n",
              "      <td>/home/rajesh/www/rajesh/docuchief2/project/web...</td>\n",
              "    </tr>\n",
              "    <tr>\n",
              "      <th>2</th>\n",
              "      <td>2</td>\n",
              "      <td>I</td>\n",
              "      <td>official records of coconino county hansen rec...</td>\n",
              "      <td>/home/rajesh/www/rajesh/docuchief2/project/web...</td>\n",
              "    </tr>\n",
              "    <tr>\n",
              "      <th>3</th>\n",
              "      <td>3</td>\n",
              "      <td>I</td>\n",
              "      <td>records of coconino county nee ep amesercer il...</td>\n",
              "      <td>/home/rajesh/www/rajesh/docuchief2/project/web...</td>\n",
              "    </tr>\n",
              "    <tr>\n",
              "      <th>4</th>\n",
              "      <td>4</td>\n",
              "      <td>I</td>\n",
              "      <td>official records of coconino county hansen rec...</td>\n",
              "      <td>/home/rajesh/www/rajesh/docuchief2/project/web...</td>\n",
              "    </tr>\n",
              "    <tr>\n",
              "      <th>5</th>\n",
              "      <td>5</td>\n",
              "      <td>I</td>\n",
              "      <td>oe records of coconino county hansen recorder ...</td>\n",
              "      <td>/home/rajesh/www/rajesh/docuchief2/project/web...</td>\n",
              "    </tr>\n",
              "    <tr>\n",
              "      <th>6</th>\n",
              "      <td>6</td>\n",
              "      <td>M</td>\n",
              "      <td>official records of coconino county hansen rec...</td>\n",
              "      <td>/home/rajesh/www/rajesh/docuchief2/project/web...</td>\n",
              "    </tr>\n",
              "    <tr>\n",
              "      <th>7</th>\n",
              "      <td>7</td>\n",
              "      <td>M</td>\n",
              "      <td>official records of coconino county hansen rec...</td>\n",
              "      <td>/home/rajesh/www/rajesh/docuchief2/project/web...</td>\n",
              "    </tr>\n",
              "    <tr>\n",
              "      <th>8</th>\n",
              "      <td>8</td>\n",
              "      <td>M</td>\n",
              "      <td>official records of coconino county hansen rec...</td>\n",
              "      <td>/home/rajesh/www/rajesh/docuchief2/project/web...</td>\n",
              "    </tr>\n",
              "    <tr>\n",
              "      <th>9</th>\n",
              "      <td>9</td>\n",
              "      <td>M</td>\n",
              "      <td>of requested county clerk western bank smith r...</td>\n",
              "      <td>/home/rajesh/www/rajesh/docuchief2/project/web...</td>\n",
              "    </tr>\n",
              "  </tbody>\n",
              "</table>\n",
              "</div>"
            ],
            "text/plain": [
              "   Unnamed: 0  ...                                          file_path\n",
              "0           0  ...  /home/rajesh/www/rajesh/docuchief2/project/web...\n",
              "1           1  ...  /home/rajesh/www/rajesh/docuchief2/project/web...\n",
              "2           2  ...  /home/rajesh/www/rajesh/docuchief2/project/web...\n",
              "3           3  ...  /home/rajesh/www/rajesh/docuchief2/project/web...\n",
              "4           4  ...  /home/rajesh/www/rajesh/docuchief2/project/web...\n",
              "5           5  ...  /home/rajesh/www/rajesh/docuchief2/project/web...\n",
              "6           6  ...  /home/rajesh/www/rajesh/docuchief2/project/web...\n",
              "7           7  ...  /home/rajesh/www/rajesh/docuchief2/project/web...\n",
              "8           8  ...  /home/rajesh/www/rajesh/docuchief2/project/web...\n",
              "9           9  ...  /home/rajesh/www/rajesh/docuchief2/project/web...\n",
              "\n",
              "[10 rows x 4 columns]"
            ]
          },
          "metadata": {
            "tags": []
          },
          "execution_count": 8
        }
      ]
    },
    {
      "cell_type": "code",
      "metadata": {
        "colab": {
          "base_uri": "https://localhost:8080/"
        },
        "id": "XdtXklXZAyNA",
        "outputId": "522f2f25-0dab-4d4a-816f-2d9396be58e5"
      },
      "source": [
        "#MOst Common Words in corpus\n",
        "\n",
        "from collections import Counter\n",
        "cnt = Counter()\n",
        "for text in df[\"content\"].values:\n",
        "    for word in text.split():\n",
        "        cnt[word] += 1\n",
        "        \n",
        "cnt.most_common(5)"
      ],
      "execution_count": null,
      "outputs": [
        {
          "output_type": "execute_result",
          "data": {
            "text/plain": [
              "[('of', 116312),\n",
              " ('the', 110868),\n",
              " ('and', 77152),\n",
              " ('to', 44999),\n",
              " ('this', 30315)]"
            ]
          },
          "metadata": {
            "tags": []
          },
          "execution_count": 9
        }
      ]
    },
    {
      "cell_type": "code",
      "metadata": {
        "colab": {
          "base_uri": "https://localhost:8080/",
          "height": 206
        },
        "id": "EEw0FzUXBPKp",
        "outputId": "43f65f04-242d-41f1-83e7-c01dc0a27986"
      },
      "source": [
        "FREQWORDS = set([w for (w, wc) in cnt.most_common(5)])\n",
        "def remove_freqwords(text):\n",
        "    \"\"\"custom function to remove the frequent words\"\"\"\n",
        "    return \" \".join([word for word in str(text).split() if word not in FREQWORDS])\n",
        "\n",
        "df[\"content\"] = df[\"content\"].apply(lambda text: remove_freqwords(text))\n",
        "df.head()"
      ],
      "execution_count": null,
      "outputs": [
        {
          "output_type": "execute_result",
          "data": {
            "text/html": [
              "<div>\n",
              "<style scoped>\n",
              "    .dataframe tbody tr th:only-of-type {\n",
              "        vertical-align: middle;\n",
              "    }\n",
              "\n",
              "    .dataframe tbody tr th {\n",
              "        vertical-align: top;\n",
              "    }\n",
              "\n",
              "    .dataframe thead th {\n",
              "        text-align: right;\n",
              "    }\n",
              "</style>\n",
              "<table border=\"1\" class=\"dataframe\">\n",
              "  <thead>\n",
              "    <tr style=\"text-align: right;\">\n",
              "      <th></th>\n",
              "      <th>Unnamed: 0</th>\n",
              "      <th>label</th>\n",
              "      <th>content</th>\n",
              "      <th>file_path</th>\n",
              "    </tr>\n",
              "  </thead>\n",
              "  <tbody>\n",
              "    <tr>\n",
              "      <th>0</th>\n",
              "      <td>0</td>\n",
              "      <td>I</td>\n",
              "      <td>official records coconino county hansen record...</td>\n",
              "      <td>/home/rajesh/www/rajesh/docuchief2/project/web...</td>\n",
              "    </tr>\n",
              "    <tr>\n",
              "      <th>1</th>\n",
              "      <td>1</td>\n",
              "      <td>I</td>\n",
              "      <td>official records coconino county hansen record...</td>\n",
              "      <td>/home/rajesh/www/rajesh/docuchief2/project/web...</td>\n",
              "    </tr>\n",
              "    <tr>\n",
              "      <th>2</th>\n",
              "      <td>2</td>\n",
              "      <td>I</td>\n",
              "      <td>official records coconino county hansen record...</td>\n",
              "      <td>/home/rajesh/www/rajesh/docuchief2/project/web...</td>\n",
              "    </tr>\n",
              "    <tr>\n",
              "      <th>3</th>\n",
              "      <td>3</td>\n",
              "      <td>I</td>\n",
              "      <td>records coconino county nee ep amesercer ill w...</td>\n",
              "      <td>/home/rajesh/www/rajesh/docuchief2/project/web...</td>\n",
              "    </tr>\n",
              "    <tr>\n",
              "      <th>4</th>\n",
              "      <td>4</td>\n",
              "      <td>I</td>\n",
              "      <td>official records coconino county hansen record...</td>\n",
              "      <td>/home/rajesh/www/rajesh/docuchief2/project/web...</td>\n",
              "    </tr>\n",
              "  </tbody>\n",
              "</table>\n",
              "</div>"
            ],
            "text/plain": [
              "   Unnamed: 0  ...                                          file_path\n",
              "0           0  ...  /home/rajesh/www/rajesh/docuchief2/project/web...\n",
              "1           1  ...  /home/rajesh/www/rajesh/docuchief2/project/web...\n",
              "2           2  ...  /home/rajesh/www/rajesh/docuchief2/project/web...\n",
              "3           3  ...  /home/rajesh/www/rajesh/docuchief2/project/web...\n",
              "4           4  ...  /home/rajesh/www/rajesh/docuchief2/project/web...\n",
              "\n",
              "[5 rows x 4 columns]"
            ]
          },
          "metadata": {
            "tags": []
          },
          "execution_count": 10
        }
      ]
    },
    {
      "cell_type": "code",
      "metadata": {
        "colab": {
          "base_uri": "https://localhost:8080/",
          "height": 206
        },
        "id": "0E4TjaTdBoo6",
        "outputId": "fa30dfa5-4c5e-4c47-aa75-3896ea57865e"
      },
      "source": [
        "# Removal of Rare Words in Corpus \n",
        "\n",
        "\n",
        "n_rare_words = 5\n",
        "RAREWORDS = set([w for (w, wc) in cnt.most_common()[:-n_rare_words-1:-1]])\n",
        "def remove_rarewords(text):\n",
        "    \"\"\"custom function to remove the rare words\"\"\"\n",
        "    return \" \".join([word for word in str(text).split() if word not in RAREWORDS])\n",
        "\n",
        "df[\"content\"] = df[\"content\"].apply(lambda text: remove_rarewords(text))\n",
        "df.head()"
      ],
      "execution_count": null,
      "outputs": [
        {
          "output_type": "execute_result",
          "data": {
            "text/html": [
              "<div>\n",
              "<style scoped>\n",
              "    .dataframe tbody tr th:only-of-type {\n",
              "        vertical-align: middle;\n",
              "    }\n",
              "\n",
              "    .dataframe tbody tr th {\n",
              "        vertical-align: top;\n",
              "    }\n",
              "\n",
              "    .dataframe thead th {\n",
              "        text-align: right;\n",
              "    }\n",
              "</style>\n",
              "<table border=\"1\" class=\"dataframe\">\n",
              "  <thead>\n",
              "    <tr style=\"text-align: right;\">\n",
              "      <th></th>\n",
              "      <th>Unnamed: 0</th>\n",
              "      <th>label</th>\n",
              "      <th>content</th>\n",
              "      <th>file_path</th>\n",
              "    </tr>\n",
              "  </thead>\n",
              "  <tbody>\n",
              "    <tr>\n",
              "      <th>0</th>\n",
              "      <td>0</td>\n",
              "      <td>I</td>\n",
              "      <td>official records coconino county hansen record...</td>\n",
              "      <td>/home/rajesh/www/rajesh/docuchief2/project/web...</td>\n",
              "    </tr>\n",
              "    <tr>\n",
              "      <th>1</th>\n",
              "      <td>1</td>\n",
              "      <td>I</td>\n",
              "      <td>official records coconino county hansen record...</td>\n",
              "      <td>/home/rajesh/www/rajesh/docuchief2/project/web...</td>\n",
              "    </tr>\n",
              "    <tr>\n",
              "      <th>2</th>\n",
              "      <td>2</td>\n",
              "      <td>I</td>\n",
              "      <td>official records coconino county hansen record...</td>\n",
              "      <td>/home/rajesh/www/rajesh/docuchief2/project/web...</td>\n",
              "    </tr>\n",
              "    <tr>\n",
              "      <th>3</th>\n",
              "      <td>3</td>\n",
              "      <td>I</td>\n",
              "      <td>records coconino county nee ep amesercer ill w...</td>\n",
              "      <td>/home/rajesh/www/rajesh/docuchief2/project/web...</td>\n",
              "    </tr>\n",
              "    <tr>\n",
              "      <th>4</th>\n",
              "      <td>4</td>\n",
              "      <td>I</td>\n",
              "      <td>official records coconino county hansen record...</td>\n",
              "      <td>/home/rajesh/www/rajesh/docuchief2/project/web...</td>\n",
              "    </tr>\n",
              "  </tbody>\n",
              "</table>\n",
              "</div>"
            ],
            "text/plain": [
              "   Unnamed: 0  ...                                          file_path\n",
              "0           0  ...  /home/rajesh/www/rajesh/docuchief2/project/web...\n",
              "1           1  ...  /home/rajesh/www/rajesh/docuchief2/project/web...\n",
              "2           2  ...  /home/rajesh/www/rajesh/docuchief2/project/web...\n",
              "3           3  ...  /home/rajesh/www/rajesh/docuchief2/project/web...\n",
              "4           4  ...  /home/rajesh/www/rajesh/docuchief2/project/web...\n",
              "\n",
              "[5 rows x 4 columns]"
            ]
          },
          "metadata": {
            "tags": []
          },
          "execution_count": 11
        }
      ]
    },
    {
      "cell_type": "markdown",
      "metadata": {
        "id": "IA836i6mUh6x"
      },
      "source": [
        "**Stemming is the process of reducing inflected (or sometimes derived) words to their word stem, base or root form**"
      ]
    },
    {
      "cell_type": "code",
      "metadata": {
        "colab": {
          "base_uri": "https://localhost:8080/",
          "height": 206
        },
        "id": "jKjCk31bUjq9",
        "outputId": "51f18fd7-0756-4efe-b5de-756d10c63f37"
      },
      "source": [
        "from nltk.stem.porter import PorterStemmer\n",
        "\n",
        "\n",
        "stemmer = PorterStemmer()\n",
        "def stem_words(text):\n",
        "    return \" \".join([stemmer.stem(word) for word in text.split()])\n",
        "\n",
        "df[\"content\"] = df[\"content\"].apply(lambda text: stem_words(text))\n",
        "df.head()"
      ],
      "execution_count": null,
      "outputs": [
        {
          "output_type": "execute_result",
          "data": {
            "text/html": [
              "<div>\n",
              "<style scoped>\n",
              "    .dataframe tbody tr th:only-of-type {\n",
              "        vertical-align: middle;\n",
              "    }\n",
              "\n",
              "    .dataframe tbody tr th {\n",
              "        vertical-align: top;\n",
              "    }\n",
              "\n",
              "    .dataframe thead th {\n",
              "        text-align: right;\n",
              "    }\n",
              "</style>\n",
              "<table border=\"1\" class=\"dataframe\">\n",
              "  <thead>\n",
              "    <tr style=\"text-align: right;\">\n",
              "      <th></th>\n",
              "      <th>Unnamed: 0</th>\n",
              "      <th>label</th>\n",
              "      <th>content</th>\n",
              "      <th>file_path</th>\n",
              "    </tr>\n",
              "  </thead>\n",
              "  <tbody>\n",
              "    <tr>\n",
              "      <th>0</th>\n",
              "      <td>0</td>\n",
              "      <td>I</td>\n",
              "      <td>offici record coconino counti hansen record pm...</td>\n",
              "      <td>/home/rajesh/www/rajesh/docuchief2/project/web...</td>\n",
              "    </tr>\n",
              "    <tr>\n",
              "      <th>1</th>\n",
              "      <td>1</td>\n",
              "      <td>I</td>\n",
              "      <td>offici record coconino counti hansen record pm...</td>\n",
              "      <td>/home/rajesh/www/rajesh/docuchief2/project/web...</td>\n",
              "    </tr>\n",
              "    <tr>\n",
              "      <th>2</th>\n",
              "      <td>2</td>\n",
              "      <td>I</td>\n",
              "      <td>offici record coconino counti hansen record am...</td>\n",
              "      <td>/home/rajesh/www/rajesh/docuchief2/project/web...</td>\n",
              "    </tr>\n",
              "    <tr>\n",
              "      <th>3</th>\n",
              "      <td>3</td>\n",
              "      <td>I</td>\n",
              "      <td>record coconino counti nee ep ameserc ill wn h...</td>\n",
              "      <td>/home/rajesh/www/rajesh/docuchief2/project/web...</td>\n",
              "    </tr>\n",
              "    <tr>\n",
              "      <th>4</th>\n",
              "      <td>4</td>\n",
              "      <td>I</td>\n",
              "      <td>offici record coconino counti hansen record am...</td>\n",
              "      <td>/home/rajesh/www/rajesh/docuchief2/project/web...</td>\n",
              "    </tr>\n",
              "  </tbody>\n",
              "</table>\n",
              "</div>"
            ],
            "text/plain": [
              "   Unnamed: 0  ...                                          file_path\n",
              "0           0  ...  /home/rajesh/www/rajesh/docuchief2/project/web...\n",
              "1           1  ...  /home/rajesh/www/rajesh/docuchief2/project/web...\n",
              "2           2  ...  /home/rajesh/www/rajesh/docuchief2/project/web...\n",
              "3           3  ...  /home/rajesh/www/rajesh/docuchief2/project/web...\n",
              "4           4  ...  /home/rajesh/www/rajesh/docuchief2/project/web...\n",
              "\n",
              "[5 rows x 4 columns]"
            ]
          },
          "metadata": {
            "tags": []
          },
          "execution_count": 12
        }
      ]
    },
    {
      "cell_type": "markdown",
      "metadata": {
        "id": "VB0-gjWNVU4p"
      },
      "source": [
        "**Lemmatization is similar to stemming in reducing inflected words to their word stem but differs in the way that it makes sure the root word (also called as lemma) belongs to the language.**"
      ]
    },
    {
      "cell_type": "code",
      "metadata": {
        "colab": {
          "base_uri": "https://localhost:8080/",
          "height": 206
        },
        "id": "NTZ9Lks3VLBZ",
        "outputId": "6f59c156-04d9-44ac-986b-1275d388c598"
      },
      "source": [
        "from nltk.stem import WordNetLemmatizer\n",
        "\n",
        "lemmatizer = WordNetLemmatizer()\n",
        "def lemmatize_words(text):\n",
        "    return \" \".join([lemmatizer.lemmatize(word) for word in text.split()])\n",
        "\n",
        "df[\"content\"] = df[\"content\"].apply(lambda text: lemmatize_words(text))\n",
        "df.head()"
      ],
      "execution_count": null,
      "outputs": [
        {
          "output_type": "execute_result",
          "data": {
            "text/html": [
              "<div>\n",
              "<style scoped>\n",
              "    .dataframe tbody tr th:only-of-type {\n",
              "        vertical-align: middle;\n",
              "    }\n",
              "\n",
              "    .dataframe tbody tr th {\n",
              "        vertical-align: top;\n",
              "    }\n",
              "\n",
              "    .dataframe thead th {\n",
              "        text-align: right;\n",
              "    }\n",
              "</style>\n",
              "<table border=\"1\" class=\"dataframe\">\n",
              "  <thead>\n",
              "    <tr style=\"text-align: right;\">\n",
              "      <th></th>\n",
              "      <th>Unnamed: 0</th>\n",
              "      <th>label</th>\n",
              "      <th>content</th>\n",
              "      <th>file_path</th>\n",
              "    </tr>\n",
              "  </thead>\n",
              "  <tbody>\n",
              "    <tr>\n",
              "      <th>0</th>\n",
              "      <td>0</td>\n",
              "      <td>I</td>\n",
              "      <td>offici record coconino counti hansen record pm...</td>\n",
              "      <td>/home/rajesh/www/rajesh/docuchief2/project/web...</td>\n",
              "    </tr>\n",
              "    <tr>\n",
              "      <th>1</th>\n",
              "      <td>1</td>\n",
              "      <td>I</td>\n",
              "      <td>offici record coconino counti hansen record pm...</td>\n",
              "      <td>/home/rajesh/www/rajesh/docuchief2/project/web...</td>\n",
              "    </tr>\n",
              "    <tr>\n",
              "      <th>2</th>\n",
              "      <td>2</td>\n",
              "      <td>I</td>\n",
              "      <td>offici record coconino counti hansen record am...</td>\n",
              "      <td>/home/rajesh/www/rajesh/docuchief2/project/web...</td>\n",
              "    </tr>\n",
              "    <tr>\n",
              "      <th>3</th>\n",
              "      <td>3</td>\n",
              "      <td>I</td>\n",
              "      <td>record coconino counti nee ep ameserc ill wn h...</td>\n",
              "      <td>/home/rajesh/www/rajesh/docuchief2/project/web...</td>\n",
              "    </tr>\n",
              "    <tr>\n",
              "      <th>4</th>\n",
              "      <td>4</td>\n",
              "      <td>I</td>\n",
              "      <td>offici record coconino counti hansen record am...</td>\n",
              "      <td>/home/rajesh/www/rajesh/docuchief2/project/web...</td>\n",
              "    </tr>\n",
              "  </tbody>\n",
              "</table>\n",
              "</div>"
            ],
            "text/plain": [
              "   Unnamed: 0  ...                                          file_path\n",
              "0           0  ...  /home/rajesh/www/rajesh/docuchief2/project/web...\n",
              "1           1  ...  /home/rajesh/www/rajesh/docuchief2/project/web...\n",
              "2           2  ...  /home/rajesh/www/rajesh/docuchief2/project/web...\n",
              "3           3  ...  /home/rajesh/www/rajesh/docuchief2/project/web...\n",
              "4           4  ...  /home/rajesh/www/rajesh/docuchief2/project/web...\n",
              "\n",
              "[5 rows x 4 columns]"
            ]
          },
          "metadata": {
            "tags": []
          },
          "execution_count": 13
        }
      ]
    },
    {
      "cell_type": "code",
      "metadata": {
        "colab": {
          "base_uri": "https://localhost:8080/"
        },
        "id": "RB0oCIutsAZd",
        "outputId": "715b9b77-5bc3-4268-ee43-9d7598936d81"
      },
      "source": [
        "print(df.label.value_counts())"
      ],
      "execution_count": null,
      "outputs": [
        {
          "output_type": "stream",
          "text": [
            "I    1930\n",
            "D    1930\n",
            "M    1930\n",
            "F    1930\n",
            "Name: label, dtype: int64\n"
          ],
          "name": "stdout"
        }
      ]
    },
    {
      "cell_type": "code",
      "metadata": {
        "id": "Nl5kLCWczIVM"
      },
      "source": [
        "#model\n",
        "\n",
        "from sklearn import preprocessing\n",
        "from sklearn.feature_extraction.text import CountVectorizer\n",
        "from sklearn.linear_model import LogisticRegression\n",
        "from sklearn.metrics import accuracy_score\n",
        "from sklearn.model_selection import train_test_split\n",
        "import sklearn.metrics as metrics\n",
        "from sklearn.feature_extraction.text import TfidfVectorizer\n",
        "from sklearn.metrics import log_loss\n",
        "from keras.models import Sequential\n",
        "from keras.layers import Embedding\n",
        "from keras.layers import Activation, Dense\n"
      ],
      "execution_count": null,
      "outputs": []
    },
    {
      "cell_type": "code",
      "metadata": {
        "id": "VgJhM2IDV4oL"
      },
      "source": [
        "from sklearn import preprocessing\n",
        "# Intialize TfidfVectorizer\n",
        "#Tfidf_vect = TfidfVectorizer()\n",
        "# Fit The Corpus To TfidfVectorizer\n",
        "#'''Tfidf_vect.fit(df['content'])\n",
        "#X = Tfidf_vect.transform(df['content'])'''''\n",
        "\n",
        "count_vectorizer = CountVectorizer()\n",
        "# count_vectorizer.fit(df['content'])\n",
        "# X = count_vectorizer.transform(df['content'])\n",
        "\n",
        "y = df['label']\n",
        "\n",
        "vectorizer = CountVectorizer().fit(df['content'])\n",
        "\n",
        "count_vector_X = vectorizer.transform(df['content']).toarray()  #//shape - (3,6)\n",
        "# tfidf_vector_Y = vectorizer.transform(Y).toarray() #//shape - (3,6)\n",
        "# count_vector_X = np.expand_dims(count_vector_X,axis=0)#//shape - (3,6,1) \n",
        "# tfidf_vector_Y = tfidf_vector_Y[:, :, None] #//shape - (3,6,1)\n",
        "\n",
        "y=df['label'].values\n",
        "lbl_enc=preprocessing.LabelEncoder()\n",
        "y = lbl_enc.fit_transform(y)\n",
        "\n",
        "\n"
      ],
      "execution_count": null,
      "outputs": []
    },
    {
      "cell_type": "code",
      "metadata": {
        "colab": {
          "base_uri": "https://localhost:8080/"
        },
        "id": "FewbWTokLqA7",
        "outputId": "20f1ec50-82bc-4a34-fad3-ccf77631e6f5"
      },
      "source": [
        "y"
      ],
      "execution_count": null,
      "outputs": [
        {
          "output_type": "execute_result",
          "data": {
            "text/plain": [
              "array([2, 2, 2, ..., 1, 1, 1])"
            ]
          },
          "metadata": {
            "tags": []
          },
          "execution_count": 17
        }
      ]
    },
    {
      "cell_type": "code",
      "metadata": {
        "id": "qpmmIGu_EE9M"
      },
      "source": [
        "\n",
        "\n",
        "X_train, X_test, y_train, y_test = train_test_split(count_vector_X, y, test_size=0.2)\n",
        "X_test, X_validate, y_test, y_validate = train_test_split(X_test, y_test, test_size=0.5)\n",
        "\n",
        "\n"
      ],
      "execution_count": null,
      "outputs": []
    },
    {
      "cell_type": "code",
      "metadata": {
        "colab": {
          "base_uri": "https://localhost:8080/"
        },
        "id": "nubd6w0yEKHH",
        "outputId": "d9866440-dd1b-4e90-a1e6-5167799fea5d"
      },
      "source": [
        "print(X_train.shape), print(y_train.shape)\n",
        "print(X_validate.shape), print(y_validate.shape)\n",
        "print(X_test.shape), print(y_test.shape)"
      ],
      "execution_count": null,
      "outputs": [
        {
          "output_type": "stream",
          "text": [
            "(6176, 26481)\n",
            "(6176,)\n",
            "(772, 26481)\n",
            "(772,)\n",
            "(772, 26481)\n",
            "(772,)\n"
          ],
          "name": "stdout"
        },
        {
          "output_type": "execute_result",
          "data": {
            "text/plain": [
              "(None, None)"
            ]
          },
          "metadata": {
            "tags": []
          },
          "execution_count": 32
        }
      ]
    },
    {
      "cell_type": "code",
      "metadata": {
        "colab": {
          "base_uri": "https://localhost:8080/"
        },
        "id": "PU_3TEWhHVe-",
        "outputId": "50e3f921-f8bc-4f4f-8984-f7b4b73423b2"
      },
      "source": [
        "# Fitting a simple Logistic Regression \n",
        "clf = LogisticRegression(C=1.0)\n",
        "clf.fit(X_train , y_train)\n"
      ],
      "execution_count": null,
      "outputs": [
        {
          "output_type": "stream",
          "text": [
            "/usr/local/lib/python3.7/dist-packages/sklearn/linear_model/_logistic.py:940: ConvergenceWarning: lbfgs failed to converge (status=1):\n",
            "STOP: TOTAL NO. of ITERATIONS REACHED LIMIT.\n",
            "\n",
            "Increase the number of iterations (max_iter) or scale the data as shown in:\n",
            "    https://scikit-learn.org/stable/modules/preprocessing.html\n",
            "Please also refer to the documentation for alternative solver options:\n",
            "    https://scikit-learn.org/stable/modules/linear_model.html#logistic-regression\n",
            "  extra_warning_msg=_LOGISTIC_SOLVER_CONVERGENCE_MSG)\n"
          ],
          "name": "stderr"
        },
        {
          "output_type": "execute_result",
          "data": {
            "text/plain": [
              "LogisticRegression(C=1.0, class_weight=None, dual=False, fit_intercept=True,\n",
              "                   intercept_scaling=1, l1_ratio=None, max_iter=100,\n",
              "                   multi_class='auto', n_jobs=None, penalty='l2',\n",
              "                   random_state=None, solver='lbfgs', tol=0.0001, verbose=0,\n",
              "                   warm_start=False)"
            ]
          },
          "metadata": {
            "tags": []
          },
          "execution_count": 33
        }
      ]
    },
    {
      "cell_type": "code",
      "metadata": {
        "id": "-TDfnkxbljC1"
      },
      "source": [
        "preds = clf.predict(X_test)\n",
        "accuracy = metrics.accuracy_score(y_test, preds)"
      ],
      "execution_count": null,
      "outputs": []
    },
    {
      "cell_type": "code",
      "metadata": {
        "colab": {
          "base_uri": "https://localhost:8080/"
        },
        "id": "jIRFNje8nfGM",
        "outputId": "297fc142-6b12-4ea3-92a5-bcb13fb9f3e6"
      },
      "source": [
        "print(accuracy)"
      ],
      "execution_count": null,
      "outputs": [
        {
          "output_type": "stream",
          "text": [
            "0.9922279792746114\n"
          ],
          "name": "stdout"
        }
      ]
    },
    {
      "cell_type": "code",
      "metadata": {
        "colab": {
          "base_uri": "https://localhost:8080/"
        },
        "id": "dL85AH8DyYXU",
        "outputId": "793b692b-8a7f-4d20-a743-52ae5aa6f5a9"
      },
      "source": [
        "clf_val = LogisticRegression(C=1.0)\n",
        "clf_val.fit(X_validate , y_validate)"
      ],
      "execution_count": null,
      "outputs": [
        {
          "output_type": "stream",
          "text": [
            "/usr/local/lib/python3.7/dist-packages/sklearn/linear_model/_logistic.py:940: ConvergenceWarning: lbfgs failed to converge (status=1):\n",
            "STOP: TOTAL NO. of ITERATIONS REACHED LIMIT.\n",
            "\n",
            "Increase the number of iterations (max_iter) or scale the data as shown in:\n",
            "    https://scikit-learn.org/stable/modules/preprocessing.html\n",
            "Please also refer to the documentation for alternative solver options:\n",
            "    https://scikit-learn.org/stable/modules/linear_model.html#logistic-regression\n",
            "  extra_warning_msg=_LOGISTIC_SOLVER_CONVERGENCE_MSG)\n"
          ],
          "name": "stderr"
        },
        {
          "output_type": "execute_result",
          "data": {
            "text/plain": [
              "LogisticRegression(C=1.0, class_weight=None, dual=False, fit_intercept=True,\n",
              "                   intercept_scaling=1, l1_ratio=None, max_iter=100,\n",
              "                   multi_class='auto', n_jobs=None, penalty='l2',\n",
              "                   random_state=None, solver='lbfgs', tol=0.0001, verbose=0,\n",
              "                   warm_start=False)"
            ]
          },
          "metadata": {
            "tags": []
          },
          "execution_count": 38
        }
      ]
    },
    {
      "cell_type": "code",
      "metadata": {
        "colab": {
          "base_uri": "https://localhost:8080/"
        },
        "id": "8v5C-XOtyYg8",
        "outputId": "07ee2921-0ff3-465b-a593-c7d5e1901879"
      },
      "source": [
        "preds_val = clf_val.predict(X_test)\n",
        "accuracy = metrics.accuracy_score(y_test, preds)\n",
        "print(accuracy)"
      ],
      "execution_count": null,
      "outputs": [
        {
          "output_type": "stream",
          "text": [
            "0.9922279792746114\n"
          ],
          "name": "stdout"
        }
      ]
    },
    {
      "cell_type": "code",
      "metadata": {
        "id": "pWlHKW51NU_M"
      },
      "source": [
        "from sklearn.naive_bayes import GaussianNB"
      ],
      "execution_count": null,
      "outputs": []
    },
    {
      "cell_type": "code",
      "metadata": {
        "id": "2ydnlgQ3M-cb"
      },
      "source": [
        "# Fitting Naive Bayes on our data\n",
        "model_Nb = GaussianNB()"
      ],
      "execution_count": null,
      "outputs": []
    },
    {
      "cell_type": "code",
      "metadata": {
        "colab": {
          "base_uri": "https://localhost:8080/"
        },
        "id": "r4kUm0uWNOOL",
        "outputId": "0361b94c-d549-4c49-b68c-fe961df65f89"
      },
      "source": [
        "# Train the model \n",
        "model_Nb.fit(X_train, y_train)"
      ],
      "execution_count": null,
      "outputs": [
        {
          "output_type": "execute_result",
          "data": {
            "text/plain": [
              "GaussianNB(priors=None, var_smoothing=1e-09)"
            ]
          },
          "metadata": {
            "tags": []
          },
          "execution_count": 21
        }
      ]
    },
    {
      "cell_type": "code",
      "metadata": {
        "colab": {
          "base_uri": "https://localhost:8080/"
        },
        "id": "NAdtEETPNjgF",
        "outputId": "2f16e420-3041-4110-dff9-803c988cfaaa"
      },
      "source": [
        "preds = model_Nb.predict(X_test)\n",
        "accuracy = metrics.accuracy_score(y_test, preds)\n",
        "print(accuracy)"
      ],
      "execution_count": null,
      "outputs": [
        {
          "output_type": "stream",
          "text": [
            "0.977979274611399\n"
          ],
          "name": "stdout"
        }
      ]
    },
    {
      "cell_type": "code",
      "metadata": {
        "id": "fXyXtrr6r5ME"
      },
      "source": [
        "from sklearn.pipeline import make_pipeline\n",
        "from sklearn.preprocessing import StandardScaler\n",
        "from sklearn.svm import SVC"
      ],
      "execution_count": null,
      "outputs": []
    },
    {
      "cell_type": "code",
      "metadata": {
        "id": "qoRfyT6gr5Wb"
      },
      "source": [
        "# Fitting SVM on our Data\n",
        "Model = make_pipeline(StandardScaler(with_mean = False), SVC(gamma='auto'))\n",
        "Model.fit(X_train, y_train)"
      ],
      "execution_count": null,
      "outputs": []
    },
    {
      "cell_type": "code",
      "metadata": {
        "id": "jt9Z7cYEKT9E"
      },
      "source": [
        "preds_val = Model.predict(X_test)\n",
        "accuracy = metrics.accuracy_score(y_test, preds)\n",
        "print(accuracy)"
      ],
      "execution_count": null,
      "outputs": []
    }
  ]
}